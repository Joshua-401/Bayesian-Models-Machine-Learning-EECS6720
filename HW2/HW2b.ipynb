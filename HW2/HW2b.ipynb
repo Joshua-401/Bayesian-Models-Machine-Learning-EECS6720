{
 "cells": [
  {
   "cell_type": "code",
   "execution_count": 1,
   "metadata": {
    "collapsed": false
   },
   "outputs": [],
   "source": [
    "%matplotlib inline\n",
    "import matplotlib.pyplot as plt\n",
    "import numpy as np\n",
    "from scipy.io import loadmat\n",
    "from scipy.stats import norm"
   ]
  },
  {
   "cell_type": "code",
   "execution_count": 2,
   "metadata": {
    "collapsed": false
   },
   "outputs": [],
   "source": [
    "data = loadmat('hw2_data_mat/mnist_mat.mat')"
   ]
  },
  {
   "cell_type": "code",
   "execution_count": 3,
   "metadata": {
    "collapsed": true
   },
   "outputs": [],
   "source": [
    "sigma = 1.5\n",
    "lamda = 1\n",
    "T = 100"
   ]
  },
  {
   "cell_type": "code",
   "execution_count": 4,
   "metadata": {
    "collapsed": false
   },
   "outputs": [
    {
     "name": "stdout",
     "output_type": "stream",
     "text": [
      "15 11791\n"
     ]
    }
   ],
   "source": [
    "dim = data['Xtrain'].shape[0]\n",
    "n = data['Xtrain'].shape[1]\n",
    "print dim, n"
   ]
  },
  {
   "cell_type": "code",
   "execution_count": 5,
   "metadata": {
    "collapsed": true
   },
   "outputs": [],
   "source": [
    "Xtrain_P = []\n",
    "Xtrain_N = []"
   ]
  },
  {
   "cell_type": "code",
   "execution_count": 6,
   "metadata": {
    "collapsed": true
   },
   "outputs": [],
   "source": [
    "for i in xrange(n):\n",
    "    if data['ytrain'][:, i][0] == 1:\n",
    "        Xtrain_P.append(data['Xtrain'][:, i])\n",
    "    else:\n",
    "        Xtrain_N.append(data['Xtrain'][:, i])"
   ]
  },
  {
   "cell_type": "code",
   "execution_count": 7,
   "metadata": {
    "collapsed": true
   },
   "outputs": [],
   "source": [
    "Xtrain_P = np.transpose(np.array(Xtrain_P))\n",
    "Xtrain_N = np.transpose(np.array(Xtrain_N))"
   ]
  },
  {
   "cell_type": "code",
   "execution_count": 8,
   "metadata": {
    "collapsed": false
   },
   "outputs": [],
   "source": [
    "n_P = Xtrain_P.shape\n",
    "n_N = Xtrain_N.shape"
   ]
  },
  {
   "cell_type": "code",
   "execution_count": 9,
   "metadata": {
    "collapsed": false
   },
   "outputs": [],
   "source": [
    "w = np.zeros((15, 1))\n",
    "w_t = []\n",
    "ln = []\n",
    "for i in range(T):\n",
    "    # E-Step\n",
    "    X_t_w_P = np.dot(Xtrain_P.T, w)\n",
    "    X_t_w_N = np.dot(Xtrain_N.T, w)\n",
    "    E_phi_P = X_t_w_P + sigma * norm.pdf(-X_t_w_P / sigma) / (1 - norm.cdf(-X_t_w_P / sigma))\n",
    "    E_phi_N = X_t_w_N + sigma * - norm.pdf(-X_t_w_N / sigma) / norm.cdf(-X_t_w_N / sigma)\n",
    "    # M-Step\n",
    "    x_x_T = np.divide((np.dot(Xtrain_P, Xtrain_P.T) + np.dot(Xtrain_N, Xtrain_N.T)), sigma**2)\n",
    "    inverted = np.linalg.inv(np.dot(np.identity(15), lamda) + x_x_T)\n",
    "    x_E_phi = np.divide((np.dot(Xtrain_P, E_phi_P) + np.dot(Xtrain_N, E_phi_N)), sigma **2)\n",
    "    w = np.dot(inverted, x_E_phi)\n",
    "    # Calculate ln\n",
    "    ln_y_w_given_x = (dim / 2.0 * np.log(lamda/(2 * np.pi)) - lamda / 2.0 * np.dot(w.T, w) + \n",
    "                     np.sum(np.log(norm.cdf(np.dot(Xtrain_P.T, w)/sigma))) +  \n",
    "                     np.sum(np.log(1 - norm.cdf(np.dot(Xtrain_N.T, w)/sigma))))\n",
    "            \n",
    "    if i in [0, 4, 9, 24, 49, 99]:\n",
    "        w_t.append(w)\n",
    "    ln.append(ln_y_w_given_x[0][0])"
   ]
  },
  {
   "cell_type": "code",
   "execution_count": 10,
   "metadata": {
    "collapsed": false
   },
   "outputs": [
    {
     "data": {
      "text/plain": [
       "Text(0.5,1,u'ln_y_w_given_x against t')"
      ]
     },
     "execution_count": 10,
     "metadata": {},
     "output_type": "execute_result"
    },
    {
     "data": {
      "image/png": "[encoded data removed]",
      "text/plain": [
       "<matplotlib.figure.Figure at 0x10befc2d0>"
      ]
     },
     "metadata": {},
     "output_type": "display_data"
    }
   ],
   "source": [
    "x = range(100)\n",
    "plt.figure(figsize=(10, 10))\n",
    "plt.plot(x, ln)\n",
    "plt.ylabel('ln_y_w_given_x')\n",
    "plt.xlabel('t')\n",
    "plt.title('ln_y_w_given_x against t')"
   ]
  },
  {
   "cell_type": "code",
   "execution_count": 11,
   "metadata": {
    "collapsed": false
   },
   "outputs": [
    {
     "name": "stdout",
     "output_type": "stream",
     "text": [
      "(1, 1991)\n"
     ]
    }
   ],
   "source": [
    "pred_Y = []\n",
    "true_P = 0\n",
    "true_N = 0\n",
    "false_P = 0\n",
    "false_N = 0\n",
    "print data['ytest'].shape"
   ]
  },
  {
   "cell_type": "code",
   "execution_count": 12,
   "metadata": {
    "collapsed": false
   },
   "outputs": [
    {
     "name": "stdout",
     "output_type": "stream",
     "text": [
      "40 [[ 0.75483351]]\n",
      "46 [[ 0.78198279]]\n",
      "64 [[ 0.9757452]]\n",
      "74 [[ 0.93095418]]\n",
      "80 [[ 0.99911947]]\n",
      "81 [[ 0.5119825]]\n",
      "84 [[ 0.76368115]]\n",
      "94 [[ 0.57854307]]\n",
      "138 [[ 0.95722124]]\n",
      "142 [[ 0.8313627]]\n",
      "156 [[ 0.93107843]]\n",
      "162 [[ 0.7001229]]\n",
      "163 [[ 0.80849723]]\n",
      "183 [[ 0.55764663]]\n",
      "195 [[ 0.56546922]]\n",
      "210 [[ 0.50613315]]\n",
      "221 [[ 0.99995144]]\n",
      "223 [[ 0.92184408]]\n",
      "231 [[ 0.97702347]]\n",
      "239 [[ 0.69336726]]\n",
      "259 [[ 0.80182825]]\n",
      "263 [[ 0.98936797]]\n",
      "269 [[ 0.57763019]]\n",
      "271 [[ 0.79579723]]\n",
      "293 [[ 0.65842084]]\n",
      "301 [[ 0.86329532]]\n",
      "312 [[ 0.88172473]]\n",
      "340 [[ 0.50463717]]\n",
      "348 [[ 0.84173697]]\n",
      "357 [[ 0.6722796]]\n",
      "360 [[ 0.78870087]]\n",
      "396 [[ 0.83967772]]\n",
      "420 [[ 0.84403436]]\n",
      "440 [[ 0.68536092]]\n",
      "441 [[ 0.7419132]]\n",
      "465 [[ 0.99140899]]\n",
      "476 [[ 0.63800794]]\n",
      "489 [[ 0.92204447]]\n",
      "529 [[ 0.55398608]]\n",
      "559 [[ 0.55595442]]\n",
      "564 [[ 0.62612537]]\n",
      "586 [[ 0.5002525]]\n",
      "587 [[ 0.84138435]]\n",
      "592 [[ 0.72139615]]\n",
      "603 [[ 0.71099252]]\n",
      "676 [[ 0.53796456]]\n",
      "715 [[ 0.55112567]]\n",
      "730 [[ 0.57909342]]\n",
      "744 [[ 0.56129254]]\n",
      "832 [[ 0.77852964]]\n",
      "842 [[ 0.99887344]]\n",
      "909 [[ 0.64406079]]\n",
      "988 0.474083033582\n",
      "1002 0.269198185046\n",
      "1010 0.453734536313\n",
      "1038 0.303886863706\n",
      "1094 0.0757977206357\n",
      "1097 0.432676699926\n",
      "1117 0.200664111189\n",
      "1140 0.144547024545\n",
      "1149 0.242954813462\n",
      "1168 0.00737809598847\n",
      "1181 0.386164722497\n",
      "1184 0.0181905757155\n",
      "1201 0.329625700235\n",
      "1253 0.47781449629\n",
      "1293 0.43736224498\n",
      "1327 0.0444890217592\n",
      "1342 0.0325323547972\n",
      "1346 0.371389733048\n",
      "1351 0.0513670697336\n",
      "1370 0.0474757622353\n",
      "1373 0.400084382476\n",
      "1382 3.52883864409e-05\n",
      "1390 0.085294317303\n",
      "1392 0.0271206625297\n",
      "1407 0.181200072876\n",
      "1424 0.337774248592\n",
      "1427 0.379945440526\n",
      "1429 0.220657060203\n",
      "1435 0.259888936895\n",
      "1445 0.477676387607\n",
      "1446 0.475532410749\n",
      "1459 0.483528548889\n",
      "1463 0.400709456576\n",
      "1467 0.30159094869\n",
      "1475 0.0544963824207\n",
      "1477 0.174858993188\n",
      "1482 0.00422627610849\n",
      "1484 0.412956839443\n",
      "1491 0.0644173987111\n",
      "1496 0.245623856429\n",
      "1502 0.131667521065\n",
      "1504 0.0444568111736\n",
      "1516 0.045001171609\n",
      "1519 0.0141013720126\n",
      "1567 0.462978305496\n",
      "1618 0.289568538565\n",
      "1619 0.457926185862\n",
      "1653 0.0309947503052\n",
      "1655 0.297382340981\n",
      "1658 0.467922433693\n",
      "1660 0.343703062665\n",
      "1662 0.0265922674236\n",
      "1674 0.219925031864\n",
      "1678 0.391164092904\n",
      "1681 0.295885693414\n",
      "1688 0.344571402597\n",
      "1707 0.34317243534\n",
      "1708 0.342637632353\n",
      "1757 0.160389173707\n",
      "1758 0.0531235773196\n",
      "1837 0.384270370656\n",
      "1842 0.441564104377\n",
      "1901 0.397782616551\n",
      "1902 0.0109345042581\n",
      "1919 0.0962604432108\n",
      "1924 0.445970034101\n",
      "1958 0.00868376514755\n",
      "1971 0.293557212774\n",
      "1972 0.0741919661533\n",
      "1973 0.474485374353\n",
      "1977 0.00011529151587\n",
      "1980 0.37273573069\n",
      "1981 0.016122208355\n",
      "1982 0.0109516727919\n",
      "1983 0.221224009317\n",
      "1986 0.437457475958\n",
      "1988 0.410013424395\n"
     ]
    }
   ],
   "source": [
    "for i in xrange(data['Xtest'].shape[1]):\n",
    "    prob_P = norm.cdf(np.dot(data['Xtest'][:, i].reshape((15,1)).T, w_t[5]))\n",
    "    if prob_P >= 0.5 and data['ytest'][:, i][0] == 1:\n",
    "        true_P += 1\n",
    "    elif prob_P >= 0.5 and data['ytest'][:, i][0] == 0:\n",
    "        false_P += 1\n",
    "        print i, prob_P\n",
    "    elif prob_P < 0.5 and data['ytest'][:, i][0] == 1:\n",
    "        false_N += 1\n",
    "        print i, prob_P[0][0]\n",
    "    else:\n",
    "        true_N += 1\n",
    "    pred_Y.append(prob_P[0][0])"
   ]
  },
  {
   "cell_type": "code",
   "execution_count": 13,
   "metadata": {
    "collapsed": false
   },
   "outputs": [
    {
     "name": "stdout",
     "output_type": "stream",
     "text": [
      "932 930 52 77\n"
     ]
    }
   ],
   "source": [
    "print true_P, true_N, false_P, false_N"
   ]
  },
  {
   "cell_type": "code",
   "execution_count": 14,
   "metadata": {
    "collapsed": true
   },
   "outputs": [],
   "source": [
    "Q = data['Q']"
   ]
  },
  {
   "cell_type": "code",
   "execution_count": 15,
   "metadata": {
    "collapsed": false
   },
   "outputs": [
    {
     "name": "stdout",
     "output_type": "stream",
     "text": [
      "0.999951444623\n"
     ]
    },
    {
     "data": {
      "image/png": "[encoded data removed]",
      "text/plain": [
       "<matplotlib.figure.Figure at 0x10c149b10>"
      ]
     },
     "metadata": {},
     "output_type": "display_data"
    }
   ],
   "source": [
    "misclass_1 = np.dot(Q, data['Xtest'][:, 221]).reshape(28, 28)\n",
    "plt.imshow(misclass_1)\n",
    "print pred_Y[221]"
   ]
  },
  {
   "cell_type": "code",
   "execution_count": 16,
   "metadata": {
    "collapsed": false
   },
   "outputs": [
    {
     "name": "stdout",
     "output_type": "stream",
     "text": [
      "0.989367967151\n"
     ]
    },
    {
     "data": {
      "image/png": "[encoded data removed]",
      "text/plain": [
       "<matplotlib.figure.Figure at 0x10ce6e9d0>"
      ]
     },
     "metadata": {},
     "output_type": "display_data"
    }
   ],
   "source": [
    "misclass_1 = np.dot(Q, data['Xtest'][:, 263]).reshape(28, 28)\n",
    "plt.imshow(misclass_1)\n",
    "print pred_Y[263]"
   ]
  },
  {
   "cell_type": "code",
   "execution_count": 17,
   "metadata": {
    "collapsed": false
   },
   "outputs": [
    {
     "name": "stdout",
     "output_type": "stream",
     "text": [
      "0.577630188348\n"
     ]
    },
    {
     "data": {
      "image/png": "[encoded data removed]",
      "text/plain": [
       "<matplotlib.figure.Figure at 0x10d076a10>"
      ]
     },
     "metadata": {},
     "output_type": "display_data"
    }
   ],
   "source": [
    "misclass_1 = np.dot(Q, data['Xtest'][:, 269]).reshape(28, 28)\n",
    "plt.imshow(misclass_1)\n",
    "print pred_Y[269]"
   ]
  },
  {
   "cell_type": "code",
   "execution_count": 18,
   "metadata": {
    "collapsed": true
   },
   "outputs": [],
   "source": [
    "abs_diff = np.abs(np.array(pred_Y) - 0.5)"
   ]
  },
  {
   "cell_type": "code",
   "execution_count": 19,
   "metadata": {
    "collapsed": false
   },
   "outputs": [
    {
     "data": {
      "text/plain": [
       "array([586, 340, 210])"
      ]
     },
     "execution_count": 19,
     "metadata": {},
     "output_type": "execute_result"
    }
   ],
   "source": [
    "ambi_index = np.argsort(abs_diff)[:3]\n",
    "ambi_index"
   ]
  },
  {
   "cell_type": "code",
   "execution_count": 20,
   "metadata": {
    "collapsed": false
   },
   "outputs": [
    {
     "name": "stdout",
     "output_type": "stream",
     "text": [
      "0.500252498451\n"
     ]
    },
    {
     "data": {
      "image/png": "[encoded data removed]",
      "text/plain": [
       "<matplotlib.figure.Figure at 0x10c10b950>"
      ]
     },
     "metadata": {},
     "output_type": "display_data"
    }
   ],
   "source": [
    "ambi_1 = np.dot(Q, data['Xtest'][:, ambi_index[0]]).reshape(28, 28)\n",
    "plt.imshow(ambi_1)\n",
    "print pred_Y[ambi_index[0]]"
   ]
  },
  {
   "cell_type": "code",
   "execution_count": 21,
   "metadata": {
    "collapsed": false
   },
   "outputs": [
    {
     "name": "stdout",
     "output_type": "stream",
     "text": [
      "0.504637167196\n"
     ]
    },
    {
     "data": {
      "image/png": "[encoded data removed]",
      "text/plain": [
       "<matplotlib.figure.Figure at 0x10ce6ee50>"
      ]
     },
     "metadata": {},
     "output_type": "display_data"
    }
   ],
   "source": [
    "ambi_2 = np.dot(Q, data['Xtest'][:, ambi_index[1]]).reshape(28, 28)\n",
    "plt.imshow(ambi_2)\n",
    "print pred_Y[ambi_index[1]]"
   ]
  },
  {
   "cell_type": "code",
   "execution_count": 22,
   "metadata": {
    "collapsed": false
   },
   "outputs": [
    {
     "name": "stdout",
     "output_type": "stream",
     "text": [
      "0.506133148466\n"
     ]
    },
    {
     "data": {
      "image/png": "[encoded data removed]",
      "text/plain": [
       "<matplotlib.figure.Figure at 0x10d11df50>"
      ]
     },
     "metadata": {},
     "output_type": "display_data"
    }
   ],
   "source": [
    "ambi_3 = np.dot(Q, data['Xtest'][:, ambi_index[2]]).reshape(28, 28)\n",
    "plt.imshow(ambi_3)\n",
    "print pred_Y[ambi_index[2]]"
   ]
  },
  {
   "cell_type": "code",
   "execution_count": 23,
   "metadata": {
    "collapsed": false
   },
   "outputs": [
    {
     "data": {
      "text/plain": [
       "<matplotlib.image.AxesImage at 0x10d421c10>"
      ]
     },
     "execution_count": 23,
     "metadata": {},
     "output_type": "execute_result"
    },
    {
     "data": {
      "image/png": "[encoded data removed]",
      "text/plain": [
       "<matplotlib.figure.Figure at 0x10ce63a10>"
      ]
     },
     "metadata": {},
     "output_type": "display_data"
    }
   ],
   "source": [
    "plt.figure(figsize=(30, 180))\n",
    "ax1 = plt.subplot(161)\n",
    "plt.imshow(np.dot(Q, w_t[0]).reshape(28, 28))\n",
    "ax2 = plt.subplot(162)\n",
    "plt.imshow(np.dot(Q, w_t[1]).reshape(28, 28))\n",
    "ax3 = plt.subplot(163)\n",
    "plt.imshow(np.dot(Q, w_t[2]).reshape(28, 28))\n",
    "ax4 = plt.subplot(164)\n",
    "plt.imshow(np.dot(Q, w_t[3]).reshape(28, 28))\n",
    "ax5 = plt.subplot(165)\n",
    "plt.imshow(np.dot(Q, w_t[4]).reshape(28, 28))\n",
    "ax6 = plt.subplot(166)\n",
    "plt.imshow(np.dot(Q, w_t[5]).reshape(28, 28))"
   ]
  },
  {
   "cell_type": "markdown",
   "metadata": {},
   "source": [
    "The images all look quite similar, but if we compare the first and last Ws closely, we can observe slightly more structure in the form of more defined patches of yellow and blue highlighting characteristics of 9 and 4 respectively."
   ]
  },
  {
   "cell_type": "code",
   "execution_count": 24,
   "metadata": {
    "collapsed": false
   },
   "outputs": [
    {
     "data": {
      "text/plain": [
       "<matplotlib.image.AxesImage at 0x114329750>"
      ]
     },
     "execution_count": 24,
     "metadata": {},
     "output_type": "execute_result"
    },
    {
     "data": {
      "image/png": "[encoded data removed]",
      "text/plain": [
       "<matplotlib.figure.Figure at 0x10d1ed150>"
      ]
     },
     "metadata": {},
     "output_type": "display_data"
    }
   ],
   "source": [
    "plt.figure(figsize=(20, 40))\n",
    "ax1 = plt.subplot(121)\n",
    "plt.imshow(np.dot(Q, w_t[0]).reshape(28, 28))\n",
    "ax2 = plt.subplot(122)\n",
    "plt.imshow(np.dot(Q, w_t[5]).reshape(28, 28))"
   ]
  },
  {
   "cell_type": "code",
   "execution_count": null,
   "metadata": {
    "collapsed": true
   },
   "outputs": [],
   "source": []
  }
 ],
 "metadata": {
  "kernelspec": {
   "display_name": "Python 2",
   "language": "python",
   "name": "python2"
  },
  "language_info": {
   "codemirror_mode": {
    "name": "ipython",
    "version": 2
   },
   "file_extension": ".py",
   "mimetype": "text/x-python",
   "name": "python",
   "nbconvert_exporter": "python",
   "pygments_lexer": "ipython2",
   "version": "2.7.12"
  }
 },
 "nbformat": 4,
 "nbformat_minor": 1
}
