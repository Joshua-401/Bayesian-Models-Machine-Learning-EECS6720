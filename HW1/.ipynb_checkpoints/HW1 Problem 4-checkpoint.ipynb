{
 "cells": [
  {
   "cell_type": "code",
   "execution_count": 1,
   "metadata": {
    "collapsed": true
   },
   "outputs": [],
   "source": [
    "import matplotlib.pyplot as plt\n",
    "%matplotlib inline"
   ]
  },
  {
   "cell_type": "code",
   "execution_count": 2,
   "metadata": {
    "collapsed": true
   },
   "outputs": [],
   "source": [
    "import numpy as np"
   ]
  },
  {
   "cell_type": "code",
   "execution_count": 3,
   "metadata": {
    "collapsed": false
   },
   "outputs": [],
   "source": [
    "from scipy.io import loadmat\n",
    "from scipy.special import gammaln"
   ]
  },
  {
   "cell_type": "code",
   "execution_count": 4,
   "metadata": {
    "collapsed": false
   },
   "outputs": [],
   "source": [
    "data = loadmat('hw1_data_mat/mnist_mat.mat')"
   ]
  },
  {
   "cell_type": "code",
   "execution_count": 5,
   "metadata": {
    "collapsed": true
   },
   "outputs": [],
   "source": [
    "a = b = c = e = f = 1.0"
   ]
  },
  {
   "cell_type": "code",
   "execution_count": 6,
   "metadata": {
    "collapsed": false
   },
   "outputs": [],
   "source": [
    "dim = data['Xtrain'].shape[0]\n",
    "n = data['Xtrain'].shape[1]"
   ]
  },
  {
   "cell_type": "code",
   "execution_count": 7,
   "metadata": {
    "collapsed": true
   },
   "outputs": [],
   "source": [
    "Xtrain_P = []\n",
    "Xtrain_N = []"
   ]
  },
  {
   "cell_type": "code",
   "execution_count": 8,
   "metadata": {
    "collapsed": false
   },
   "outputs": [],
   "source": [
    "for i in xrange(n):\n",
    "    if data['ytrain'][:, i][0] == 1:\n",
    "        Xtrain_P.append(data['Xtrain'][:, i])\n",
    "    else:\n",
    "        Xtrain_N.append(data['Xtrain'][:, i])"
   ]
  },
  {
   "cell_type": "code",
   "execution_count": 9,
   "metadata": {
    "collapsed": false
   },
   "outputs": [],
   "source": [
    "Xtrain_P = np.transpose(np.array(Xtrain_P))\n",
    "Xtrain_N = np.transpose(np.array(Xtrain_N))"
   ]
  },
  {
   "cell_type": "code",
   "execution_count": 10,
   "metadata": {
    "collapsed": false
   },
   "outputs": [],
   "source": [
    "n_P = Xtrain_P.shape[1]\n",
    "n_N = Xtrain_N.shape[1]"
   ]
  },
  {
   "cell_type": "code",
   "execution_count": 11,
   "metadata": {
    "collapsed": false
   },
   "outputs": [],
   "source": [
    "x_bar_P = []\n",
    "x_bar_N = []\n",
    "for i in xrange(15):\n",
    "    x_bar_P.append(np.mean(Xtrain_P[i]))\n",
    "    x_bar_N.append(np.mean(Xtrain_N[i]))"
   ]
  },
  {
   "cell_type": "code",
   "execution_count": 12,
   "metadata": {
    "collapsed": false
   },
   "outputs": [
    {
     "data": {
      "text/plain": [
       "([-0.47061730664131385,\n",
       "  0.58286614230845868,\n",
       "  0.20587045510959476,\n",
       "  -0.40882726075281095,\n",
       "  0.56292712801894862,\n",
       "  0.46453685788723231,\n",
       "  0.083284904986044864,\n",
       "  -0.16829601501539504,\n",
       "  0.3337881746038015,\n",
       "  -0.050308009077472522,\n",
       "  -0.1021845627499352,\n",
       "  0.11035410083574052,\n",
       "  -0.046616043393231263,\n",
       "  -0.049521882310979128,\n",
       "  0.030770746331257301],\n",
       " [0.44559820987050736,\n",
       "  -0.63681884607506056,\n",
       "  -0.2750122492444384,\n",
       "  0.40989926135792615,\n",
       "  -0.57246165678908867,\n",
       "  -0.45722997130591531,\n",
       "  -0.080959618408045581,\n",
       "  0.17310278209683494,\n",
       "  -0.33627257361027529,\n",
       "  0.052285728424823333,\n",
       "  0.12688412801189222,\n",
       "  -0.10852735709995273,\n",
       "  0.053593082195101144,\n",
       "  0.052877011940705786,\n",
       "  -0.030761838621929601])"
      ]
     },
     "execution_count": 12,
     "metadata": {},
     "output_type": "execute_result"
    }
   ],
   "source": [
    "x_bar_P, x_bar_N"
   ]
  },
  {
   "cell_type": "code",
   "execution_count": 13,
   "metadata": {
    "collapsed": false
   },
   "outputs": [
    {
     "name": "stdout",
     "output_type": "stream",
     "text": [
      "(15, 5949)\n"
     ]
    }
   ],
   "source": [
    "print Xtrain_P.shape\n",
    "\n",
    "x_2_P = []\n",
    "x_2_N = []\n",
    "for i in xrange(15):\n",
    "    x_2_P.append(sum(map(lambda x:x * x, Xtrain_P[i, :])))\n",
    "    x_2_N.append(sum(map(lambda x:x * x, Xtrain_N[i, :]))) "
   ]
  },
  {
   "cell_type": "code",
   "execution_count": 14,
   "metadata": {
    "collapsed": false
   },
   "outputs": [
    {
     "data": {
      "text/plain": [
       "([35736.495824099024,\n",
       "  21940.399070690841,\n",
       "  17726.881231744133,\n",
       "  11416.856006645525,\n",
       "  9080.5320089872457,\n",
       "  8339.6941494976909,\n",
       "  7658.3117853378553,\n",
       "  7164.0182013244539,\n",
       "  6906.9606531207564,\n",
       "  5776.0189943804389,\n",
       "  4561.9198564108001,\n",
       "  4789.244744705602,\n",
       "  4379.0394427675983,\n",
       "  5323.9431311741964,\n",
       "  3699.2630534896903],\n",
       " [27725.4275292926,\n",
       "  22413.030576790454,\n",
       "  15366.956765373496,\n",
       "  12264.395076509658,\n",
       "  11593.133112525949,\n",
       "  11048.704541648358,\n",
       "  9373.2972086597674,\n",
       "  8773.5387732982854,\n",
       "  6407.3255050389062,\n",
       "  7003.2779376883327,\n",
       "  6650.3368683887084,\n",
       "  4668.7243042215305,\n",
       "  4665.0021636265847,\n",
       "  3261.32490157961,\n",
       "  3750.1433414824633])"
      ]
     },
     "execution_count": 14,
     "metadata": {},
     "output_type": "execute_result"
    }
   ],
   "source": [
    "x_2_P, x_2_N"
   ]
  },
  {
   "cell_type": "code",
   "execution_count": 15,
   "metadata": {
    "collapsed": false
   },
   "outputs": [],
   "source": [
    "mu_n_P = map(lambda x: (a * n_P * x) / (a * n_P + 1), x_bar_P)\n",
    "mu_n_N = map(lambda x: (a * n_N * x) / (a * n_N + 1), x_bar_N)"
   ]
  },
  {
   "cell_type": "code",
   "execution_count": 16,
   "metadata": {
    "collapsed": false
   },
   "outputs": [],
   "source": [
    "kappa_n_P = (a * n_P + 1) / a\n",
    "kappa_n_N = (a * n_N + 1) / a"
   ]
  },
  {
   "cell_type": "code",
   "execution_count": 17,
   "metadata": {
    "collapsed": false
   },
   "outputs": [],
   "source": [
    "alpha_n_P = b + n_P * 0.5\n",
    "alpha_n_N = b + n_N * 0.5"
   ]
  },
  {
   "cell_type": "code",
   "execution_count": 18,
   "metadata": {
    "collapsed": false
   },
   "outputs": [],
   "source": [
    "beta_n_P = []\n",
    "beta_n_N = []\n",
    "for i in xrange(15):\n",
    "    beta_n_P.append(c + 0.5 * x_2_P[i] - 0.5 * ((a * n_P * x_bar_P[i]) ** 2)/(a * (a * n_P + 1)))\n",
    "    beta_n_N.append(c + 0.5 * x_2_N[i] - 0.5 * ((a * n_N * x_bar_N[i]) ** 2)/(a * (a * n_N + 1)))"
   ]
  },
  {
   "cell_type": "code",
   "execution_count": 19,
   "metadata": {
    "collapsed": false
   },
   "outputs": [
    {
     "data": {
      "text/plain": [
       "([17210.564442388786,\n",
       "  9960.8337436838883,\n",
       "  8738.3946282008674,\n",
       "  5212.354434830967,\n",
       "  3598.8441842234333,\n",
       "  3529.0742364083558,\n",
       "  3809.5271116507975,\n",
       "  3498.7748645373322,\n",
       "  3123.1334588649365,\n",
       "  2881.482612935733,\n",
       "  2250.9063565412357,\n",
       "  2359.4049173324956,\n",
       "  2184.0570541393131,\n",
       "  2655.6780777356635,\n",
       "  1847.8156279855054],\n",
       " [13283.825796024681,\n",
       "  10023.14081583915,\n",
       "  7463.595887621439,\n",
       "  5642.5026941465539,\n",
       "  4840.4826144439412,\n",
       "  4914.7947230627387,\n",
       "  4668.5063038857888,\n",
       "  4300.2578481429955,\n",
       "  2874.4148114346649,\n",
       "  3494.65491331254,\n",
       "  3279.1496037569946,\n",
       "  2300.9639552710833,\n",
       "  2325.1127675575008,\n",
       "  1623.4967956573598,\n",
       "  1873.3080286259246])"
      ]
     },
     "execution_count": 19,
     "metadata": {},
     "output_type": "execute_result"
    }
   ],
   "source": [
    "beta_n_P, beta_n_N"
   ]
  },
  {
   "cell_type": "code",
   "execution_count": 20,
   "metadata": {
    "collapsed": false
   },
   "outputs": [],
   "source": [
    "p_y_1_y_star = (e + n_P)/(n + e + f)"
   ]
  },
  {
   "cell_type": "code",
   "execution_count": 21,
   "metadata": {
    "collapsed": false
   },
   "outputs": [],
   "source": [
    "p_y_0_y_star = (f + n_N)/(n + e + f)"
   ]
  },
  {
   "cell_type": "code",
   "execution_count": 22,
   "metadata": {
    "collapsed": false
   },
   "outputs": [
    {
     "data": {
      "text/plain": [
       "(0.5045365895022471, 0.4954634104977529)"
      ]
     },
     "execution_count": 22,
     "metadata": {},
     "output_type": "execute_result"
    }
   ],
   "source": [
    "p_y_1_y_star, p_y_0_y_star"
   ]
  },
  {
   "cell_type": "code",
   "execution_count": 23,
   "metadata": {
    "collapsed": true
   },
   "outputs": [],
   "source": [
    "alpha_n_P_1 = alpha_n_P + 0.5\n",
    "alpha_n_N_1 = alpha_n_N + 0.5"
   ]
  },
  {
   "cell_type": "code",
   "execution_count": 24,
   "metadata": {
    "collapsed": false
   },
   "outputs": [],
   "source": [
    "log_kappa_t_P = np.log((kappa_n_P / (kappa_n_P + 1)) ** 0.5)\n",
    "log_kappa_t_N = np.log((kappa_n_N / (kappa_n_N + 1)) ** 0.5)"
   ]
  },
  {
   "cell_type": "code",
   "execution_count": 25,
   "metadata": {
    "collapsed": true
   },
   "outputs": [],
   "source": [
    "log_pi_t = np.log((2 * np.pi) ** -0.5)"
   ]
  },
  {
   "cell_type": "code",
   "execution_count": 26,
   "metadata": {
    "collapsed": false
   },
   "outputs": [],
   "source": [
    "log_gamma_t_P = gammaln(alpha_n_P + 0.5) - gammaln(alpha_n_P)\n",
    "log_gamma_t_N = gammaln(alpha_n_N + 0.5) - gammaln(alpha_n_N)"
   ]
  },
  {
   "cell_type": "code",
   "execution_count": 27,
   "metadata": {
    "collapsed": false
   },
   "outputs": [],
   "source": [
    "log_beta_alpha_n_P = map(lambda x: alpha_n_P * np.log(x), beta_n_P)\n",
    "log_beta_alpha_n_N = map(lambda x: alpha_n_N * np.log(x), beta_n_N)"
   ]
  },
  {
   "cell_type": "code",
   "execution_count": 28,
   "metadata": {
    "collapsed": false
   },
   "outputs": [
    {
     "name": "stdout",
     "output_type": "stream",
     "text": [
      "(1, 1991)\n"
     ]
    }
   ],
   "source": [
    "pred_Y = []\n",
    "true_P = 0\n",
    "true_N = 0\n",
    "false_P = 0\n",
    "false_N = 0\n",
    "print data['ytest'].shape"
   ]
  },
  {
   "cell_type": "code",
   "execution_count": 29,
   "metadata": {
    "collapsed": false
   },
   "outputs": [
    {
     "name": "stdout",
     "output_type": "stream",
     "text": [
      "40 0.735341099219\n",
      "42 0.519414358248\n",
      "55 0.726598587938\n",
      "64 0.701842013806\n",
      "74 0.700507707503\n",
      "80 0.881922974112\n",
      "84 0.697147381991\n",
      "138 0.687353528054\n",
      "140 0.51157890678\n",
      "142 0.595579185123\n",
      "162 0.633583349415\n",
      "163 0.544612037314\n",
      "165 0.599412617182\n",
      "183 0.730262330533\n",
      "195 0.680087852783\n",
      "221 0.869011319805\n",
      "223 0.609825384577\n",
      "231 0.924084301304\n",
      "259 0.720940241961\n",
      "263 0.743521958157\n",
      "269 0.532529824223\n",
      "301 0.732475379438\n",
      "312 0.691490895793\n",
      "340 0.538750403504\n",
      "359 0.53902758375\n",
      "360 0.642289312963\n",
      "361 0.655817783764\n",
      "363 0.623808389513\n",
      "396 0.561092410497\n",
      "420 0.659919216283\n",
      "440 0.574170617614\n",
      "452 0.662089382196\n",
      "464 0.686901195342\n",
      "465 0.610660497954\n",
      "483 0.552351348601\n",
      "486 0.726901976947\n",
      "489 0.606340817531\n",
      "529 0.628567971756\n",
      "564 0.558361268951\n",
      "592 0.547354973312\n",
      "603 0.643990976414\n",
      "676 0.519077919589\n",
      "696 0.587439192542\n",
      "698 0.594264341275\n",
      "730 0.549834245897\n",
      "740 0.506914849834\n",
      "744 0.584898620774\n",
      "809 0.770441364925\n",
      "842 0.733327738141\n",
      "909 0.585400537411\n",
      "948 0.509748290726\n",
      "974 0.538432740883\n",
      "982 0.488061012185\n",
      "1002 0.459395611182\n",
      "1033 0.421506542228\n",
      "1047 0.426510207758\n",
      "1053 0.333858208763\n",
      "1074 0.442557085153\n",
      "1094 0.124032156167\n",
      "1108 0.480684404771\n",
      "1117 0.281203967899\n",
      "1149 0.388839878998\n",
      "1154 0.474475500766\n",
      "1168 0.135448164486\n",
      "1181 0.378561400278\n",
      "1193 0.355863768104\n",
      "1201 0.245238453639\n",
      "1215 0.44888313304\n",
      "1227 0.474213366977\n",
      "1253 0.486818617865\n",
      "1316 0.475110658808\n",
      "1327 0.208879475306\n",
      "1342 0.202839107736\n",
      "1364 0.461907434992\n",
      "1370 0.27444694741\n",
      "1373 0.372606665472\n",
      "1382 0.0208425006864\n",
      "1390 0.269151613696\n",
      "1392 0.190727601643\n",
      "1407 0.331766530256\n",
      "1410 0.418554731716\n",
      "1412 0.435891432469\n",
      "1423 0.374732923964\n",
      "1429 0.384208231477\n",
      "1435 0.469404897468\n",
      "1445 0.234467198756\n",
      "1446 0.49141707841\n",
      "1450 0.384277032681\n",
      "1463 0.202181633727\n",
      "1475 0.314760058107\n",
      "1482 0.101806915334\n",
      "1502 0.451700429112\n",
      "1504 0.471298143308\n",
      "1505 0.426618896825\n",
      "1516 0.301102341479\n",
      "1519 0.374748307052\n",
      "1567 0.3772504598\n",
      "1571 0.454909656883\n",
      "1647 0.280671011541\n",
      "1653 0.376796621611\n",
      "1658 0.481346241638\n",
      "1661 0.435284314152\n",
      "1662 0.466148252439\n",
      "1663 0.424153435047\n",
      "1669 0.302281955375\n",
      "1671 0.344266742345\n",
      "1672 0.443586006186\n",
      "1673 0.470097616182\n",
      "1674 0.371686677093\n",
      "1678 0.279276429663\n",
      "1680 0.367559782431\n",
      "1681 0.484068088818\n",
      "1707 0.355900376749\n",
      "1708 0.309552073111\n",
      "1743 0.37938380269\n",
      "1757 0.374560779564\n",
      "1758 0.301756165547\n",
      "1818 0.250939409432\n",
      "1837 0.465601466584\n",
      "1842 0.357526498319\n",
      "1901 0.251646581501\n",
      "1902 0.215273072548\n",
      "1919 0.233849180984\n",
      "1922 0.415256045997\n",
      "1924 0.31944791191\n",
      "1926 0.397682146311\n",
      "1958 0.207130240425\n",
      "1971 0.330333149237\n",
      "1972 0.299037054181\n",
      "1977 0.0810884879762\n",
      "1981 0.371858471927\n",
      "1982 0.262648381326\n",
      "1983 0.396717687222\n",
      "1986 0.304740256968\n"
     ]
    }
   ],
   "source": [
    "for i in xrange(data['Xtest'].shape[1]):\n",
    "    log_beta_alpha_n_P_1 = alpha_n_P_1 * np.log(beta_n_P + kappa_n_P / (2 * (kappa_n_P + 1)) * (data['Xtest'][:, i] - x_bar_P) ** 2)\n",
    "    log_beta_alpha_n_N_1 = alpha_n_N_1 * np.log(beta_n_N + kappa_n_N / (2 * (kappa_n_N + 1)) * (data['Xtest'][:, i] - x_bar_N) ** 2)\n",
    "    log_x_star_y_star_P = 0\n",
    "    log_x_star_y_star_N = 0\n",
    "    for j in xrange(dim):\n",
    "        log_x_star_y_star_P += log_kappa_t_P + log_pi_t + log_gamma_t_P + log_beta_alpha_n_P[j] - log_beta_alpha_n_P_1[j]\n",
    "        log_x_star_y_star_N += log_kappa_t_N + log_pi_t + log_gamma_t_N + log_beta_alpha_n_N[j] - log_beta_alpha_n_N_1[j]\n",
    "    prob_P = (np.exp(log_x_star_y_star_P) * p_y_1_y_star)/(np.exp(log_x_star_y_star_P) * p_y_1_y_star + np.exp(log_x_star_y_star_N) * p_y_0_y_star)\n",
    "    if prob_P >= 0.5 and data['ytest'][:, i][0] == 1:\n",
    "        true_P += 1\n",
    "    elif prob_P >= 0.5 and data['ytest'][:, i][0] == 0:\n",
    "        false_P += 1\n",
    "        print i, prob_P\n",
    "    elif prob_P < 0.5 and data['ytest'][:, i][0] == 1:\n",
    "        false_N += 1\n",
    "        print i, prob_P\n",
    "    else:\n",
    "        true_N += 1\n",
    "    pred_Y.append(prob_P)"
   ]
  },
  {
   "cell_type": "code",
   "execution_count": 30,
   "metadata": {
    "collapsed": false
   },
   "outputs": [
    {
     "name": "stdout",
     "output_type": "stream",
     "text": [
      "927 930 52 82\n"
     ]
    }
   ],
   "source": [
    "print true_P, true_N, false_P, false_N"
   ]
  },
  {
   "cell_type": "code",
   "execution_count": 31,
   "metadata": {
    "collapsed": true
   },
   "outputs": [],
   "source": [
    "Q = data['Q']"
   ]
  },
  {
   "cell_type": "code",
   "execution_count": 32,
   "metadata": {
    "collapsed": false
   },
   "outputs": [
    {
     "name": "stdout",
     "output_type": "stream",
     "text": [
      "0.304740256968\n"
     ]
    },
    {
     "data": {
      "image/png": "[encoded data removed]",
      "text/plain": [
       "<matplotlib.figure.Figure at 0x1059e7e90>"
      ]
     },
     "metadata": {},
     "output_type": "display_data"
    }
   ],
   "source": [
    "misclass_1 = np.dot(Q, data['Xtest'][:, 1986]).reshape(28, 28)\n",
    "plt.imshow(misclass_1)\n",
    "print pred_Y[1986]"
   ]
  },
  {
   "cell_type": "code",
   "execution_count": 33,
   "metadata": {
    "collapsed": false
   },
   "outputs": [
    {
     "name": "stdout",
     "output_type": "stream",
     "text": [
      "0.207130240425\n"
     ]
    },
    {
     "data": {
      "image/png": "[encoded data removed]",
      "text/plain": [
       "<matplotlib.figure.Figure at 0x105c35690>"
      ]
     },
     "metadata": {},
     "output_type": "display_data"
    }
   ],
   "source": [
    "misclass_2 = np.dot(Q, data['Xtest'][:, 1958]).reshape(28, 28)\n",
    "plt.imshow(misclass_2)\n",
    "print pred_Y[1958]"
   ]
  },
  {
   "cell_type": "code",
   "execution_count": 34,
   "metadata": {
    "collapsed": false
   },
   "outputs": [
    {
     "name": "stdout",
     "output_type": "stream",
     "text": [
      "0.924084301304\n"
     ]
    },
    {
     "data": {
      "image/png": "[encoded data removed]",
      "text/plain": [
       "<matplotlib.figure.Figure at 0x1060e27d0>"
      ]
     },
     "metadata": {},
     "output_type": "display_data"
    }
   ],
   "source": [
    "misclass_3 = np.dot(Q, data['Xtest'][:, 231]).reshape(28, 28)\n",
    "plt.imshow(misclass_3)\n",
    "print pred_Y[231]"
   ]
  },
  {
   "cell_type": "code",
   "execution_count": 35,
   "metadata": {
    "collapsed": false
   },
   "outputs": [],
   "source": [
    "abs_diff = np.abs(np.array(pred_Y) - 0.5)"
   ]
  },
  {
   "cell_type": "code",
   "execution_count": 36,
   "metadata": {
    "collapsed": false
   },
   "outputs": [],
   "source": [
    "ambi_index = np.argsort(abs_diff)[:3]"
   ]
  },
  {
   "cell_type": "code",
   "execution_count": 37,
   "metadata": {
    "collapsed": false
   },
   "outputs": [
    {
     "name": "stdout",
     "output_type": "stream",
     "text": [
      "0.499616378259\n"
     ]
    },
    {
     "data": {
      "image/png": "[encoded data removed]",
      "text/plain": [
       "<matplotlib.figure.Figure at 0x106115b90>"
      ]
     },
     "metadata": {},
     "output_type": "display_data"
    }
   ],
   "source": [
    "ambi_1 = np.dot(Q, data['Xtest'][:, ambi_index[0]]).reshape(28, 28)\n",
    "plt.imshow(ambi_1)\n",
    "print pred_Y[ambi_index[0]]"
   ]
  },
  {
   "cell_type": "code",
   "execution_count": 38,
   "metadata": {
    "collapsed": false
   },
   "outputs": [
    {
     "name": "stdout",
     "output_type": "stream",
     "text": [
      "0.502011187547\n"
     ]
    },
    {
     "data": {
      "image/png": "[encoded data removed]",
      "text/plain": [
       "<matplotlib.figure.Figure at 0x106264f90>"
      ]
     },
     "metadata": {},
     "output_type": "display_data"
    }
   ],
   "source": [
    "ambi_2 = np.dot(Q, data['Xtest'][:, ambi_index[1]]).reshape(28, 28)\n",
    "plt.imshow(ambi_2)\n",
    "print pred_Y[ambi_index[1]]"
   ]
  },
  {
   "cell_type": "code",
   "execution_count": 39,
   "metadata": {
    "collapsed": false
   },
   "outputs": [
    {
     "name": "stdout",
     "output_type": "stream",
     "text": [
      "0.496365983337\n"
     ]
    },
    {
     "data": {
      "image/png": "[encoded data removed]",
      "text/plain": [
       "<matplotlib.figure.Figure at 0x10633c790>"
      ]
     },
     "metadata": {},
     "output_type": "display_data"
    }
   ],
   "source": [
    "ambi_3 = np.dot(Q, data['Xtest'][:, ambi_index[2]]).reshape(28, 28)\n",
    "plt.imshow(ambi_3)\n",
    "print pred_Y[ambi_index[2]]"
   ]
  },
  {
   "cell_type": "code",
   "execution_count": 40,
   "metadata": {
    "collapsed": false
   },
   "outputs": [
    {
     "data": {
      "text/plain": [
       "array([ 822, 1130,  357])"
      ]
     },
     "execution_count": 40,
     "metadata": {},
     "output_type": "execute_result"
    }
   ],
   "source": [
    "ambi_index"
   ]
  },
  {
   "cell_type": "code",
   "execution_count": null,
   "metadata": {
    "collapsed": true
   },
   "outputs": [],
   "source": []
  }
 ],
 "metadata": {
  "kernelspec": {
   "display_name": "Python 2",
   "language": "python",
   "name": "python2"
  },
  "language_info": {
   "codemirror_mode": {
    "name": "ipython",
    "version": 2
   },
   "file_extension": ".py",
   "mimetype": "text/x-python",
   "name": "python",
   "nbconvert_exporter": "python",
   "pygments_lexer": "ipython2",
   "version": "2.7.12"
  }
 },
 "nbformat": 4,
 "nbformat_minor": 1
}
