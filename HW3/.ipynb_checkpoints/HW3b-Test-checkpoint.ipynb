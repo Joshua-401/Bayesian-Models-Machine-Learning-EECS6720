{
 "cells": [
  {
   "cell_type": "code",
   "execution_count": 1,
   "metadata": {
    "collapsed": true
   },
   "outputs": [],
   "source": [
    "%matplotlib inline\n",
    "import matplotlib.pyplot as plt\n",
    "import numpy as np\n",
    "from scipy.io import loadmat\n",
    "from scipy.special import digamma, gamma"
   ]
  },
  {
   "cell_type": "code",
   "execution_count": 2,
   "metadata": {
    "collapsed": true
   },
   "outputs": [],
   "source": [
    "data_1 = loadmat('hw3_data_mat/data1.mat')\n",
    "data_2 = loadmat('hw3_data_mat/data2.mat')\n",
    "data_3 = loadmat('hw3_data_mat/data3.mat')"
   ]
  },
  {
   "cell_type": "code",
   "execution_count": 3,
   "metadata": {
    "collapsed": true
   },
   "outputs": [],
   "source": [
    "# Set prior parameters\n",
    "a_0 = b_0 = 10e-16\n",
    "e_0 = f_0 = 1"
   ]
  },
  {
   "cell_type": "code",
   "execution_count": 4,
   "metadata": {
    "collapsed": false
   },
   "outputs": [
    {
     "name": "stdout",
     "output_type": "stream",
     "text": [
      "(100, 101)\n",
      "1159.74547514 (1, 101) (101, 101)\n"
     ]
    }
   ],
   "source": [
    "dim_1 = data_1['X'].shape[1]\n",
    "n_1 = data_1['X'].shape[0]\n",
    "\n",
    "print data_1['X'].shape\n",
    "\n",
    "Y_T_Y_1 = np.dot(data_1['y'].T, data_1['y'])[0][0]\n",
    "Y_T_X_T_1 = np.dot(data_1['y'].T, data_1['X'])\n",
    "X_X_T_1 = np.dot(data_1['X'].T, data_1['X'])\n",
    "\n",
    "print Y_T_Y_1, Y_T_X_T_1.shape, X_X_T_1.shape"
   ]
  },
  {
   "cell_type": "code",
   "execution_count": 5,
   "metadata": {
    "collapsed": false
   },
   "outputs": [],
   "source": [
    "# Update q(lambda)\n",
    "def update_q_lambda(e_0, f_0, mu, sigma, Y_T_Y, Y_T_X_T, X_X_T):\n",
    "    e_p = 0.5 * n_1 + e_0\n",
    "    E_w_w_T = sigma + np.dot(mu, mu.T)\n",
    "    print np.sum(E_w_w_T)\n",
    "    f_p = 0.5 * (Y_T_Y - 2 * np.dot(Y_T_X_T, mu) + np.trace(np.dot(E_w_w_T, X_X_T))) + f_0\n",
    "    return e_p, float(f_p)"
   ]
  },
  {
   "cell_type": "code",
   "execution_count": 6,
   "metadata": {
    "collapsed": true
   },
   "outputs": [],
   "source": [
    "# Update q(alpha_k)\n",
    "def update_q_alpha_k(a_0, b_0, mu, sigma, k):\n",
    "    a_kp = 0.5 + a_0\n",
    "    E_w_k_2 = mu[k]**2 + sigma[k, k]\n",
    "    b_kp = 0.5 * E_w_k_2 + b_0\n",
    "    return a_kp, b_kp"
   ]
  },
  {
   "cell_type": "code",
   "execution_count": 7,
   "metadata": {
    "collapsed": false
   },
   "outputs": [],
   "source": [
    "# Update q(w)\n",
    "def update_q_w(e_t, f_t, a_t, b_t, X_X_T, X, Y):\n",
    "    A_p = np.array(a_t)/np.array(b_t)\n",
    "    E_lambda = e_t/float(f_t)\n",
    "    M_p = E_lambda * X_X_T + np.diag(A_p)\n",
    "    sigma_p = np.linalg.inv(M_p)\n",
    "    mu_p = E_lambda * np.dot(np.dot(sigma_p, X.T), Y)\n",
    "    return mu_p, sigma_p"
   ]
  },
  {
   "cell_type": "code",
   "execution_count": 8,
   "metadata": {
    "collapsed": false
   },
   "outputs": [],
   "source": [
    "# Compute L_1\n",
    "def L_1(dim, a_t, b_t, mu_t, sigma_t):\n",
    "    A_t = np.array(a_t)/np.array(b_t)\n",
    "    E_A = np.diag(A_t)\n",
    "    E_w_T_w = sigma_t + np.dot(mu_t, mu_t.T)\n",
    "    E_ln_alpha = map(lambda a_b: digamma(a_b[0]) - np.log(a_b[1]), zip(a_t, b_t))\n",
    "    return - 0.5 * dim * np.log(2 * np.pi) + 0.5 * sum(E_ln_alpha) - 0.5 * np.trace(np.dot(E_w_T_w, E_A))"
   ]
  },
  {
   "cell_type": "code",
   "execution_count": 9,
   "metadata": {
    "collapsed": false
   },
   "outputs": [],
   "source": [
    "# Compute L_2\n",
    "def L_2(e_0, f_0, e_t, f_t):\n",
    "    return e_0 * np.log(f_0) - np.log(gamma(e_0)) + (e_0 -1) * (digamma(e_t) - np.log(f_t)) - f_0 * e_t/float(f_t)"
   ]
  },
  {
   "cell_type": "code",
   "execution_count": 10,
   "metadata": {
    "collapsed": false
   },
   "outputs": [],
   "source": [
    "# Compute L_3\n",
    "def L_3(a_0, b_0, a_t, b_t):\n",
    "    return sum(map(lambda a_b: a_0 * np.log(b_0) - np.log(gamma(a_0)) + (a_0 - 1) * (digamma(a_b[0]) - np.log(a_b[1])) \\\n",
    "                   - b_0 * a_b[0]/float(a_b[1]), zip(a_t, b_t)))"
   ]
  },
  {
   "cell_type": "code",
   "execution_count": 11,
   "metadata": {
    "collapsed": true
   },
   "outputs": [],
   "source": [
    "# Compute L_4\n",
    "def L_4(dim, sigma_t):\n",
    "    det_sigma_t = np.linalg.det(sigma_t)\n",
    "    return - 0.5 * np.log(((2 * np.pi * np.exp(1))** dim) * det_sigma_t)"
   ]
  },
  {
   "cell_type": "code",
   "execution_count": 12,
   "metadata": {
    "collapsed": true
   },
   "outputs": [],
   "source": [
    "# Compute L_5\n",
    "def L_5(e_t, f_t):\n",
    "    return - np.log(f_t) - np.log(gamma(e_t)) + (e_t - 1) * digamma(e_t) - e_t"
   ]
  },
  {
   "cell_type": "code",
   "execution_count": 13,
   "metadata": {
    "collapsed": true
   },
   "outputs": [],
   "source": [
    "# Compute L_6\n",
    "def L_6(a_t, b_t):\n",
    "    return sum(map(lambda a_b: - np.log(a_b[1]) - np.log(gamma(a_b[0])) + (a_b[0] - 1) * digamma(a_b[0]) - a_b[0], zip(a_t, b_t)))"
   ]
  },
  {
   "cell_type": "code",
   "execution_count": 14,
   "metadata": {
    "collapsed": false
   },
   "outputs": [],
   "source": [
    "# Compute L_7\n",
    "def L_7(n, e_t, f_t, mu_t, sigma_t, Y_T_Y, Y_T_X_T, X_X_T):\n",
    "    E_ln_lambda = digamma(e_t) - np.log(f_t)\n",
    "    E_lambda = e_t/float(f_t)\n",
    "    E_w_T_w = np.dot(mu_t, mu_t.T) + sigma_t\n",
    "#     print 'L_7_1st', 0.5 * n * (E_ln_lambda - np.log(2 * np.pi))\n",
    "#     print 'L_7_2nd', (Y_T_Y - 2 * np.dot(Y_T_X_T, mu_t) + np.trace(np.dot(E_w_T_w, X_X_T)))\n",
    "    return 0.5 * n * (E_ln_lambda - np.log(2 * np.pi)) \\\n",
    "           - 0.5 * E_lambda * (Y_T_Y - 2 * np.dot(Y_T_X_T, mu_t) + np.trace(np.dot(E_w_T_w, X_X_T)))"
   ]
  },
  {
   "cell_type": "code",
   "execution_count": 15,
   "metadata": {
    "collapsed": false
   },
   "outputs": [],
   "source": [
    "# Initialise variables\n",
    "# a_t = a_0\n",
    "# b_t = b_0\n",
    "a_t = np.array([a_0] * dim_1)\n",
    "b_t = np.array([b_0] * dim_1)\n",
    "e_t = e_0\n",
    "f_t = f_0\n",
    "mu_t = np.zeros(dim_1)\n",
    "sigma_t = np.diag(np.ones(dim_1))\n",
    "L = []\n",
    "L1_t = []\n",
    "L2_t = []\n",
    "L3_t = []\n",
    "L4_t = []\n",
    "L5_t = []\n",
    "L6_t = []\n",
    "L7_t = []"
   ]
  },
  {
   "cell_type": "code",
   "execution_count": 16,
   "metadata": {
    "collapsed": false
   },
   "outputs": [
    {
     "name": "stdout",
     "output_type": "stream",
     "text": [
      "101.0\n",
      "51.0 1310.58938462\n",
      "30.5761083161\n",
      "51.0 200.827928102\n",
      "32.7208264815\n",
      "51.0 81.1105890816\n",
      "43.9361097956\n",
      "51.0 60.8392380932\n",
      "48.0226497612\n",
      "51.0 56.888591393\n",
      "48.7551449034\n",
      "51.0 55.947310858\n",
      "48.953355071\n",
      "51.0 55.5766803712\n",
      "49.1365526578\n",
      "51.0 55.3460109082\n",
      "49.3251135668\n",
      "51.0 55.1817619096\n",
      "49.4542292416\n",
      "51.0 55.0679373085\n",
      "49.4680760323\n",
      "51.0 54.9943858295\n",
      "49.3369530277\n",
      "51.0 54.9509505322\n",
      "49.0540783762\n",
      "51.0 54.9286794973\n",
      "48.6296587717\n",
      "51.0 54.9205921885\n",
      "48.0851489507\n",
      "51.0 54.9216201499\n",
      "47.4479541032\n",
      "51.0 54.9282373847\n",
      "46.7470436422\n",
      "51.0 54.9380530879\n",
      "46.0097824931\n",
      "51.0 54.9494678477\n",
      "45.2599839765\n",
      "51.0 54.9614187201\n",
      "44.5169947586\n",
      "51.0 54.9732041701\n",
      "43.7955422922\n",
      "51.0 54.9843684495\n",
      "43.1060738593\n",
      "51.0 54.994625719\n",
      "42.4553600434\n",
      "51.0 55.0038092136\n",
      "41.8471958803\n",
      "51.0 55.0118358624\n",
      "41.2830912094\n",
      "51.0 55.0186806155\n",
      "40.7628887551\n",
      "51.0 55.0243572321\n",
      "40.2852820459\n",
      "51.0 55.0289037648\n",
      "39.8482268762\n",
      "51.0 55.032371811\n",
      "39.4492524383\n",
      "51.0 55.0348190508\n",
      "39.0856844194\n",
      "51.0 55.0363048122\n",
      "38.7547947471\n",
      "51.0 55.0368884637\n",
      "38.4538931762\n",
      "51.0 55.0366303388\n",
      "38.1803757666\n",
      "51.0 55.0355946437\n",
      "37.9317450016\n",
      "51.0 55.0338534178\n",
      "37.7056155781\n",
      "51.0 55.0314902363\n",
      "37.4997179624\n",
      "51.0 55.0286021923\n",
      "37.3119078922\n",
      "51.0 55.0252989961\n",
      "37.140184311\n",
      "51.0 55.0216988632\n",
      "36.9827123235\n",
      "51.0 55.0179219605\n",
      "36.8378440184\n",
      "51.0 55.0140830562\n",
      "36.7041300178\n",
      "51.0 55.0102852146\n",
      "36.5803179485\n",
      "51.0 55.0066158221\n",
      "36.4653385252\n",
      "51.0 55.0031452834\n",
      "36.3582832589\n",
      "51.0 54.9999278907\n",
      "36.2583788392\n",
      "51.0 54.9970039612\n",
      "36.1649623631\n",
      "51.0 54.994402379\n",
      "36.0774598593\n",
      "51.0 54.9921429596\n",
      "35.9953689477\n",
      "51.0 54.9902383796\n",
      "35.9182454258\n",
      "51.0 54.9886956448\n",
      "35.8456930971\n",
      "51.0 54.9875171837\n",
      "35.7773560741\n",
      "51.0 54.9867016817\n",
      "35.712912894\n",
      "51.0 54.9862447512\n",
      "35.6520719391\n",
      "51.0 54.9861394999\n",
      "35.5945677989\n",
      "51.0 54.9863770325\n",
      "35.5401583166\n",
      "51.0 54.9869468988\n",
      "35.4886221396\n",
      "51.0 54.9878374923\n",
      "35.4397566449\n",
      "51.0 54.9890363981\n",
      "35.3933761458\n",
      "51.0 54.9905306898\n",
      "35.349310314\n",
      "51.0 54.9923071742\n",
      "35.3074027684\n",
      "51.0 54.9943525873\n",
      "35.2675097999\n",
      "51.0 54.9966537444\n",
      "35.229499207\n",
      "51.0 54.99919765\n",
      "35.1932492318\n",
      "51.0 55.0019715725\n",
      "35.1586475827\n",
      "51.0 55.0049630909\n",
      "35.1255905413\n",
      "51.0 55.0081601186\n",
      "35.0939821471\n",
      "51.0 55.0115509098\n",
      "35.0637334563\n",
      "51.0 55.0151240534\n",
      "35.0347618718\n",
      "51.0 55.0188684587\n",
      "35.0069905406\n",
      "51.0 55.0227733362\n",
      "34.9803478134\n",
      "51.0 55.0268281756\n",
      "34.9547667632\n",
      "51.0 55.0310227239\n",
      "34.9301847576\n",
      "51.0 55.0353469641\n",
      "34.9065430804\n",
      "51.0 55.0397910968\n",
      "34.8837865967\n",
      "51.0 55.044345524\n",
      "34.8618634587\n",
      "51.0 55.049000836\n",
      "34.840724846\n",
      "51.0 55.0537478019\n",
      "34.8203247374\n",
      "51.0 55.0585773631\n",
      "34.8006197099\n",
      "51.0 55.0634806297\n",
      "34.7815687616\n",
      "51.0 55.0684488802\n",
      "34.7631331554\n",
      "51.0 55.0734735632\n",
      "34.7452762807\n",
      "51.0 55.0785463016\n",
      "34.7279635303\n",
      "51.0 55.0836588982\n",
      "34.711162191\n",
      "51.0 55.088803344\n",
      "34.6948413455\n",
      "51.0 55.093971826\n",
      "34.6789717837\n",
      "51.0 55.0991567375\n",
      "34.6635259227\n",
      "51.0 55.1043506874\n",
      "34.6484777332\n",
      "51.0 55.1095465113\n",
      "34.6338026727\n",
      "51.0 55.1147372814\n",
      "34.6194776223\n",
      "51.0 55.1199163163\n",
      "34.6054808288\n",
      "51.0 55.1250771908\n",
      "34.5917918497\n",
      "51.0 55.1302137447\n",
      "34.5783915005\n",
      "51.0 55.1353200899\n",
      "34.5652618055\n",
      "51.0 55.1403906181\n",
      "34.5523859491\n",
      "51.0 55.1454200053\n",
      "34.5397482302\n",
      "51.0 55.1504032165\n",
      "34.5273340162\n",
      "51.0 55.1553355084\n",
      "34.5151296997\n",
      "51.0 55.1602124304\n",
      "34.5031226553\n",
      "51.0 55.1650298246\n",
      "34.4913011974\n",
      "51.0 55.1697838242\n",
      "34.4796545388\n",
      "51.0 55.1744708501\n"
     ]
    }
   ],
   "source": [
    "for t in range(100):\n",
    "    e_t, f_t = update_q_lambda(e_0, f_0, mu_t, sigma_t, Y_T_Y_1, Y_T_X_T_1, X_X_T_1)\n",
    "    print e_t, f_t\n",
    "    a_p = []\n",
    "    b_p = []\n",
    "    for k in range(dim_1):\n",
    "        a_kp, b_kp = update_q_alpha_k(a_0, b_0, mu_t, sigma_t, k)\n",
    "        a_p.append(a_kp)\n",
    "        b_p.append(b_kp)\n",
    "    a_t = np.array(a_p)\n",
    "    b_t = np.array(b_p).flatten()\n",
    "    mu_t, sigma_t = update_q_w(e_t, f_t, a_t, b_t, X_X_T_1, data_1['X'], data_1['y'])\n",
    "    print mu_t\n",
    "    L_1_t = L_1(dim_1, a_t, b_t, mu_t, sigma_t)\n",
    "    L_2_t = L_2(e_0, f_0, e_t, f_t)\n",
    "    L_3_t = L_3(a_0, b_0, a_t, b_t)\n",
    "    L_4_t = L_4(dim_1, sigma_t)\n",
    "    L_5_t = L_5(e_t, f_t)\n",
    "    L_6_t = L_6(a_t, b_t)\n",
    "    L_7_t = L_7(n_1, e_t, f_t, mu_t, sigma_t, Y_T_Y_1, Y_T_X_T_1, X_X_T_1)\n",
    "    L1_t.append(L_1_t)\n",
    "    L2_t.append(L_2_t)\n",
    "    L3_t.append(L_3_t)\n",
    "    L4_t.append(-L_4_t)\n",
    "    L5_t.append(-L_5_t)\n",
    "    L6_t.append(-L_6_t)\n",
    "    L7_t.append(L_7_t[0][0])\n",
    "    L.append((L_1_t + L_2_t + L_3_t + L_7_t - L_4_t - L_5_t - L_6_t)[0][0])"
   ]
  },
  {
   "cell_type": "code",
   "execution_count": 17,
   "metadata": {
    "collapsed": false
   },
   "outputs": [
    {
     "name": "stderr",
     "output_type": "stream",
     "text": [
      "/usr/local/lib/python2.7/site-packages/matplotlib-2.0.0b4+2153.g5e65908-py2.7-macosx-10.11-x86_64.egg/matplotlib/axes/_axes.py:548: UserWarning: No labelled objects found. Use label='...' kwarg on individual plots.\n",
      "  warnings.warn(\"No labelled objects found. \"\n"
     ]
    },
    {
     "data": {
      "image/png": "[encoded data removed]",
      "text/plain": [
       "<matplotlib.figure.Figure at 0x111cef450>"
      ]
     },
     "metadata": {},
     "output_type": "display_data"
    }
   ],
   "source": [
    "# plt.plot(range(100), L1_t, label='L_1')\n",
    "# plt.plot(range(100), L2_t, label='L_2')\n",
    "# # plt.plot(range(100), L3_t, label='L_3')\n",
    "# plt.plot(range(100), L4_t, label='L_4')\n",
    "# plt.plot(range(100), L5_t, label='L_5')\n",
    "# plt.plot(range(100), L6_t, label='L_6')\n",
    "# plt.plot(range(100), L7_t, label='L_7')\n",
    "# print L\n",
    "plt.plot(range(100), L)\n",
    "plt.legend()"
   ]
  },
  {
   "cell_type": "code",
   "execution_count": 18,
   "metadata": {
    "collapsed": false
   },
   "outputs": [
    {
     "data": {
      "text/plain": [
       "[<matplotlib.lines.Line2D at 0x111ce0f90>]"
      ]
     },
     "execution_count": 18,
     "metadata": {},
     "output_type": "execute_result"
    },
    {
     "data": {
      "image/png": "[encoded data removed]",
      "text/plain": [
       "<matplotlib.figure.Figure at 0x112115d10>"
      ]
     },
     "metadata": {},
     "output_type": "display_data"
    }
   ],
   "source": [
    "plt.plot(range(101), mu_t)"
   ]
  },
  {
   "cell_type": "code",
   "execution_count": 19,
   "metadata": {
    "collapsed": false
   },
   "outputs": [
    {
     "data": {
      "text/plain": [
       "283.32196782875019"
      ]
     },
     "execution_count": 19,
     "metadata": {},
     "output_type": "execute_result"
    }
   ],
   "source": [
    "L_6(a_t, b_t)"
   ]
  },
  {
   "cell_type": "code",
   "execution_count": 20,
   "metadata": {
    "collapsed": false
   },
   "outputs": [
    {
     "data": {
      "text/plain": [
       "[2.5, 2.5, 2.5, 2.5, 2.5]"
      ]
     },
     "execution_count": 20,
     "metadata": {},
     "output_type": "execute_result"
    }
   ],
   "source": [
    "[2.5] * 5"
   ]
  },
  {
   "cell_type": "code",
   "execution_count": null,
   "metadata": {
    "collapsed": true
   },
   "outputs": [],
   "source": []
  }
 ],
 "metadata": {
  "kernelspec": {
   "display_name": "Python 2",
   "language": "python",
   "name": "python2"
  },
  "language_info": {
   "codemirror_mode": {
    "name": "ipython",
    "version": 2
   },
   "file_extension": ".py",
   "mimetype": "text/x-python",
   "name": "python",
   "nbconvert_exporter": "python",
   "pygments_lexer": "ipython2",
   "version": "2.7.12"
  }
 },
 "nbformat": 4,
 "nbformat_minor": 1
}
